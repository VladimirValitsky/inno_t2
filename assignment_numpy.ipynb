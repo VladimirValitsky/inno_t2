{
 "cells": [
  {
   "cell_type": "markdown",
   "id": "d3df79dd",
   "metadata": {},
   "source": [
    "## Упражнения по библиотеке Numpy"
   ]
  },
  {
   "cell_type": "code",
   "execution_count": 1,
   "id": "76b9c43b",
   "metadata": {},
   "outputs": [],
   "source": [
    "import numpy as np"
   ]
  },
  {
   "cell_type": "markdown",
   "id": "03727b7c",
   "metadata": {},
   "source": [
    "**1.** Дан случайный массив, поменять знак у элементов, значения которых между 3 и 8"
   ]
  },
  {
   "cell_type": "code",
   "execution_count": 5,
   "id": "b89a7523",
   "metadata": {},
   "outputs": [
    {
     "name": "stdout",
     "output_type": "stream",
     "text": [
      "[2 0 2 9 5 1 9 7 4 9 7 7 0 2 2 2 5 8 0 6]\n",
      "[ 2  0  2  9 -5  1  9 -7 -4  9 -7 -7  0  2  2  2 -5  8  0 -6]\n"
     ]
    }
   ],
   "source": [
    "rand_array = np.random.randint(0, 10, 20)\n",
    "print(rand_array)\n",
    "rand_array[(rand_array > 3) & (rand_array < 8)] *= -1\n",
    "print(rand_array) "
   ]
  },
  {
   "cell_type": "markdown",
   "id": "5fa4abda",
   "metadata": {},
   "source": [
    "**2.** Заменить максимальный элемент случайного массива на 0"
   ]
  },
  {
   "cell_type": "code",
   "execution_count": 9,
   "id": "f2788a6e",
   "metadata": {},
   "outputs": [
    {
     "name": "stdout",
     "output_type": "stream",
     "text": [
      "[5 4 4 4 6 0 7 9 7 0 4 4 6 0 9 3 4 1 2 0]\n",
      "9\n",
      "[5 4 4 4 6 0 7 0 7 0 4 4 6 0 9 3 4 1 2 0]\n"
     ]
    }
   ],
   "source": [
    "rand_array = np.random.randint(0, 10, 20)\n",
    "print(rand_array)\n",
    "print(max(rand_array))\n",
    "max_index = np.argmax(rand_array)\n",
    "rand_array[max_index] = 0\n",
    "print(rand_array)\n"
   ]
  },
  {
   "cell_type": "markdown",
   "id": "3cac656b",
   "metadata": {},
   "source": [
    "Построить прямое произведение массивов (все комбинации с каждым элементом). На вход подается двумерный массив**3.** "
   ]
  },
  {
   "cell_type": "code",
   "execution_count": 26,
   "id": "3396b764",
   "metadata": {},
   "outputs": [
    {
     "name": "stdout",
     "output_type": "stream",
     "text": [
      "[[3 8]\n",
      " [2 0]]\n",
      "array_a: [[8 7]\n",
      " [8 7]]\n",
      "array_b: [[8 8]\n",
      " [6 6]]\n",
      "result: [[8 8]\n",
      " [7 8]\n",
      " [8 6]\n",
      " [7 6]]\n"
     ]
    }
   ],
   "source": [
    "rand_array2d = np.random.randint(0, 10, (2,2))\n",
    "print(rand_array)\n",
    "array_a, array_b = np.meshgrid(rand_array2d[:, 0], rand_array2d[:, 1])\n",
    "print(f'array_a: {array_a}')\n",
    "print(f'array_b: {array_b}')\n",
    "result = np.array(np.vstack([array_a.ravel(), array_b.ravel()])).T\n",
    "print(f'result: {result}')"
   ]
  },
  {
   "cell_type": "markdown",
   "id": "674c9354",
   "metadata": {},
   "source": [
    "**4.** Даны 2 массива A (8x3) и B (2x2). Найти строки в A, которые содержат элементы из каждой строки в B, независимо от порядка элементов в B"
   ]
  },
  {
   "cell_type": "code",
   "execution_count": 31,
   "id": "cb664782",
   "metadata": {},
   "outputs": [
    {
     "name": "stdout",
     "output_type": "stream",
     "text": [
      "[[9 1 3]\n",
      " [0 9 0]\n",
      " [0 0 0]\n",
      " [7 4 1]\n",
      " [2 2 9]\n",
      " [2 4 7]\n",
      " [8 4 9]\n",
      " [2 8 2]]\n",
      "[[9 6]\n",
      " [0 9]]\n",
      "---- match_rows------\n",
      "[1]\n"
     ]
    }
   ],
   "source": [
    "array_a83 = np.random.randint(0, 10, (8,3))\n",
    "array_b22 = np.random.randint(0, 10, (2,2))\n",
    "print(array_a83)\n",
    "print(array_b22)\n",
    "match_rows = []\n",
    "for b_row in array_b22:\n",
    "\tfor i,a_row in enumerate(array_a83):\n",
    "\t\tif np.all(np.isin(b_row, a_row)):\n",
    "\t\t\tmatch_rows.append(i)\n",
    "match_rows = list(set(match_rows))\n",
    "print('---- match_rows------')\n",
    "print(match_rows)"
   ]
  },
  {
   "cell_type": "markdown",
   "id": "fa46533b",
   "metadata": {},
   "source": [
    "**5.** Дана 10x3 матрица, найти строки из неравных значений (например строка [2,2,3] остается, строка [3,3,3] удаляется)"
   ]
  },
  {
   "cell_type": "code",
   "execution_count": 44,
   "id": "fa545b23",
   "metadata": {},
   "outputs": [
    {
     "name": "stdout",
     "output_type": "stream",
     "text": [
      "[[1 0 1]\n",
      " [1 1 1]\n",
      " [1 1 1]\n",
      " [0 0 0]\n",
      " [1 0 1]\n",
      " [1 0 1]\n",
      " [1 1 1]\n",
      " [1 0 1]\n",
      " [0 0 1]\n",
      " [1 0 1]]\n",
      "[[1 0 1]\n",
      " [1 0 1]\n",
      " [1 0 1]\n",
      " [1 0 1]\n",
      " [0 0 1]\n",
      " [1 0 1]]\n"
     ]
    }
   ],
   "source": [
    "array_103 = np.array([[1,0,1],[1,1,1], [1,1,1],[0,0,0],[1,0,1],[1,0,1],[1,1,1],[1,0,1],[0,0,1],[1,0,1]])\n",
    "print(array_103)\n",
    "unique_rows = array_103[np.array([len(set(row)) > 1 for row in array_103])]  \n",
    "print(unique_rows)"
   ]
  },
  {
   "cell_type": "markdown",
   "id": "28f0d116",
   "metadata": {},
   "source": [
    "**6.** Дан двумерный массив. Удалить те строки, которые повторяются"
   ]
  },
  {
   "cell_type": "code",
   "execution_count": 45,
   "id": "83d2c0b7",
   "metadata": {},
   "outputs": [
    {
     "name": "stdout",
     "output_type": "stream",
     "text": [
      "[[1 0 1]\n",
      " [1 1 1]\n",
      " [1 0 1]]\n",
      "[[1 0 1]\n",
      " [1 1 1]]\n"
     ]
    }
   ],
   "source": [
    "array_2d = np.array([[1,0,1],[1,1,1],[1,0,1]])\n",
    "print(array_2d)\n",
    "unique_rows = np.unique(array_2d, axis=0)\n",
    "print(unique_rows)"
   ]
  },
  {
   "cell_type": "markdown",
   "id": "6daa9e37",
   "metadata": {},
   "source": [
    "______\n",
    "______"
   ]
  },
  {
   "cell_type": "markdown",
   "id": "cfbfcaff",
   "metadata": {},
   "source": [
    "Для каждой из следующих задач (1-5) нужно привести 2 реализации – одна без использования numpy (cчитайте, что там, где на входе или выходе должны быть numpy array, будут просто списки), а вторая полностью векторизованная с использованием numpy (без использования питоновских циклов/map/list comprehension).\n",
    "\n",
    "\n",
    "__Замечание 1.__ Можно считать, что все указанные объекты непустые (к примеру, в __задаче 1__ на диагонали матрицы есть ненулевые элементы).\n",
    "\n",
    "__Замечание 2.__ Для большинства задач решение занимает не больше 1-2 строк."
   ]
  },
  {
   "cell_type": "markdown",
   "id": "673cac7f",
   "metadata": {},
   "source": [
    "___"
   ]
  },
  {
   "cell_type": "markdown",
   "id": "ca6f585e",
   "metadata": {},
   "source": [
    "* __Задача 1__: Подсчитать произведение ненулевых элементов на диагонали прямоугольной матрицы.  \n",
    " Например, для X = np.array([[1, 0, 1], [2, 0, 2], [3, 0, 3], [4, 4, 4]]) ответ 3."
   ]
  },
  {
   "cell_type": "code",
   "execution_count": 56,
   "id": "065862fc",
   "metadata": {},
   "outputs": [
    {
     "name": "stdout",
     "output_type": "stream",
     "text": [
      "Numpy: [1 0 3]\n",
      "3\n",
      "---Without Numpy----\n",
      "3\n"
     ]
    }
   ],
   "source": [
    "#Numpy\n",
    "arrayNumPy_2d = np.array([[1, 0, 1], [2, 0, 2], [3, 0, 3], [4, 4, 4]])\n",
    "array_diagonal = np.diagonal(arrayNumPy_2d)\n",
    "print(f'Numpy: {array_diagonal}')\n",
    "print(np.prod(array_diagonal[array_diagonal != 0]))\n",
    "\n",
    "# without Numpy\n",
    "result = 1 # as diagonal have non0 elements\n",
    "array_2d = [[1, 0, 1], [2, 0, 2], [3, 0, 3], [4, 4, 4]]\n",
    "for i in range(min(len(array_2d[0]), len(array_2d))):\n",
    "\tif array_2d[i][i] != 0:\n",
    "\t\tresult *= array_2d[i][i]\n",
    "print('---Without Numpy----')\n",
    "print(result)\n",
    "\t\n",
    "\n"
   ]
  },
  {
   "cell_type": "markdown",
   "id": "9fc51d41",
   "metadata": {},
   "source": [
    "* __Задача 2__: Даны два вектора x и y. Проверить, задают ли они одно и то же мультимножество.  \n",
    "  Например, для x = np.array([1, 2, 2, 4]), y = np.array([4, 2, 1, 2]) ответ True."
   ]
  },
  {
   "cell_type": "code",
   "execution_count": 61,
   "id": "a809e02f",
   "metadata": {},
   "outputs": [
    {
     "name": "stdout",
     "output_type": "stream",
     "text": [
      "True\n",
      "True\n"
     ]
    }
   ],
   "source": [
    "# Numpy\n",
    "x = np.array([1, 2, 2, 4])  \n",
    "y = np.array([4, 2, 1, 2]) \n",
    "unique_x, frequency_x = np.unique(x, return_counts=True)\n",
    "unique_y, frequency_y = np.unique(y, return_counts=True)  \n",
    "check_multiset_np = np.array_equal(unique_x, unique_y) & np.array_equal(frequency_x, frequency_y)\n",
    "print(check_multiset_np)\n",
    "\n",
    "# without Numpy\n",
    "from collections import Counter \n",
    "x = [1, 2, 2, 4]  \n",
    "y = [4, 2, 1, 2] \n",
    "check_multiset = Counter(x) == Counter(y)\n",
    "print(check_multiset)\n",
    "\n"
   ]
  },
  {
   "cell_type": "markdown",
   "id": "b9c185c7",
   "metadata": {},
   "source": [
    "* __Задача 3__: Найти максимальный элемент в векторе x среди элементов, перед которыми стоит ноль. \n",
    " Например, для x = np.array([6, 2, 0, 3, 0, 0, 5, 7, 0]) ответ 5."
   ]
  },
  {
   "cell_type": "code",
   "execution_count": 65,
   "id": "b57df008",
   "metadata": {},
   "outputs": [
    {
     "name": "stdout",
     "output_type": "stream",
     "text": [
      "5\n",
      "5\n"
     ]
    }
   ],
   "source": [
    "# Numpy\n",
    "x = np.array([6, 2, 0, 3, 0, 0, 5, 7, 0])\n",
    "elem_after_0 = x[np.where(x[:-1] == 0)[0] + 1]\n",
    "max_after_0np = max(elem_after_0)\n",
    "print(max_after_0np)\n",
    "\n",
    "# without Numpy\n",
    "x = [6, 2, 0, 3, 0, 0, 5, 7, 0] \n",
    "max_after_0 = None\n",
    "for i in range(1, len(x)):\n",
    "\tif x[i-1] == 0:\n",
    "\t\tif max_after_0 is None or x[i] > max_after_0:\n",
    "\t\t\tmax_after_0 = x[i]\n",
    "print(max_after_0)"
   ]
  },
  {
   "cell_type": "markdown",
   "id": "480be4ce",
   "metadata": {},
   "source": [
    "* __Задача 4__: Реализовать кодирование длин серий (Run-length encoding). Для некоторого вектора x необходимо вернуть кортеж из двух векторов одинаковой длины. Первый содержит числа, а второй - сколько раз их нужно повторить.  \n",
    " Например, для x = np.array([2, 2, 2, 3, 3, 3, 5]) ответ (np.array([2, 3, 5]), np.array([3, 3, 1]))."
   ]
  },
  {
   "cell_type": "code",
   "execution_count": 71,
   "id": "3c592124",
   "metadata": {},
   "outputs": [
    {
     "name": "stdout",
     "output_type": "stream",
     "text": [
      "(array([2, 3, 5]), array([3, 3, 1]))\n",
      "([2, 3, 5], [3, 3, 1])\n"
     ]
    }
   ],
   "source": [
    "# Numpy\n",
    "array_1np = np.array([2, 2, 2, 3, 3, 3, 5])\n",
    "def get_uniq_freq_tuple_np(x):\n",
    "\tunique_elements, frequency = np.unique(x, return_counts=True)\n",
    "\treturn (unique_elements, frequency)\n",
    "uniq_freq_tuple_np = get_uniq_freq_tuple_np(array_1np)\n",
    "print(uniq_freq_tuple_np)\n",
    "\n",
    "# without Numpy\n",
    "array_1 = [2, 2, 2, 3, 3, 3, 5]\n",
    "def get_uniq_freq_tuple(x):  \n",
    "    values, frequencies = [], []  \n",
    "    current_value, current_count = x[0], 1  \n",
    "    for i in range(1, len(x)):  \n",
    "        if x[i] == current_value:  \n",
    "            current_count += 1  \n",
    "        else:  \n",
    "            values.append(current_value)  \n",
    "            frequencies.append(current_count)  \n",
    "            current_value, current_count = x[i], 1   \n",
    "    values.append(current_value)  \n",
    "    frequencies.append(current_count)  \n",
    "    return (values, frequencies)\n",
    "\n",
    "uniq_freq_tuple = get_uniq_freq_tuple(array_1)\n",
    "print(uniq_freq_tuple)"
   ]
  },
  {
   "cell_type": "markdown",
   "id": "077532ec",
   "metadata": {},
   "source": [
    "* __Задача 5__: Даны две выборки объектов - X и Y. Вычислить матрицу евклидовых расстояний между объектами. Сравните с функцией scipy.spatial.distance.cdist по скорости работы."
   ]
  },
  {
   "cell_type": "code",
   "execution_count": 79,
   "id": "1e807797",
   "metadata": {},
   "outputs": [
    {
     "name": "stdout",
     "output_type": "stream",
     "text": [
      "Numpy numpy_time: 0.18793010711669922\n",
      "scipy cdist_time: 0.03909611701965332\n"
     ]
    }
   ],
   "source": [
    "import time\n",
    "from scipy.spatial.distance import cdist\n",
    "\n",
    "# Numpy\n",
    "np.random.seed(0)  \n",
    "a = np.random.rand(1000, 10)   \n",
    "b = np.random.rand(1000, 10)  \n",
    "\n",
    "def evclid_distance_numpy(x, y):  \n",
    "    dists = np.sqrt(((x[:, np.newaxis] - y[np.newaxis, :]) ** 2).sum(axis=2))  \n",
    "    return dists  \n",
    "\n",
    "start_time = time.time()  \n",
    "distances_numpy = evclid_distance_numpy(a, b)  \n",
    "numpy_time = time.time() - start_time\n",
    "print(f'Numpy numpy_time: {numpy_time}')\n",
    "\n",
    "# scipy.spatial.distance.cdist\n",
    "start_time = time.time()  \n",
    "distances_cdist = cdist(a, b, metric='euclidean')  \n",
    "cdist_time = time.time() - start_time\n",
    "print(f'scipy cdist_time: {cdist_time}')\n",
    "\n",
    " "
   ]
  },
  {
   "cell_type": "markdown",
   "id": "973e8064",
   "metadata": {},
   "source": [
    "_______\n",
    "________"
   ]
  },
  {
   "cell_type": "markdown",
   "id": "1104acb7",
   "metadata": {},
   "source": [
    "* #### __Задача 6__: CrunchieMunchies __*__\n",
    "\n",
    "Вы работаете в отделе маркетинга пищевой компании MyCrunch, которая разрабатывает новый вид вкусных, полезных злаков под названием **CrunchieMunchies**.\n",
    "\n",
    "Вы хотите продемонстрировать потребителям, насколько полезны ваши хлопья по сравнению с другими ведущими брендами, поэтому вы собрали данные о питании нескольких разных конкурентов.\n",
    "\n",
    "Ваша задача - использовать вычисления Numpy для анализа этих данных и доказать, что ваши **СrunchieMunchies** - самый здоровый выбор для потребителей.\n"
   ]
  },
  {
   "cell_type": "code",
   "execution_count": 77,
   "id": "10a77f8d",
   "metadata": {},
   "outputs": [],
   "source": [
    "import numpy as np"
   ]
  },
  {
   "cell_type": "markdown",
   "id": "ab87cb03",
   "metadata": {},
   "source": [
    "1. Просмотрите файл cereal.csv. Этот файл содержит количества калорий для различных марок хлопьев. Загрузите данные из файла и сохраните их как calorie_stats."
   ]
  },
  {
   "cell_type": "code",
   "execution_count": 81,
   "id": "9681ebf2",
   "metadata": {},
   "outputs": [
    {
     "data": {
      "text/plain": [
       "array([ 70., 120.,  70.,  50., 110., 110., 110., 130.,  90.,  90., 120.,\n",
       "       110., 120., 110., 110., 110., 100., 110., 110., 110., 100., 110.,\n",
       "       100., 100., 110., 110., 100., 120., 120., 110., 100., 110., 100.,\n",
       "       110., 120., 120., 110., 110., 110., 140., 110., 100., 110., 100.,\n",
       "       150., 150., 160., 100., 120., 140.,  90., 130., 120., 100.,  50.,\n",
       "        50., 100., 100., 120., 100.,  90., 110., 110.,  80.,  90.,  90.,\n",
       "       110., 110.,  90., 110., 140., 100., 110., 110., 100., 100., 110.])"
      ]
     },
     "execution_count": 81,
     "metadata": {},
     "output_type": "execute_result"
    }
   ],
   "source": [
    "calorie_stats = np.loadtxt(\"./data/cereal.csv\", delimiter=\",\")\n",
    "calorie_stats"
   ]
  },
  {
   "cell_type": "markdown",
   "id": "139cfbd8",
   "metadata": {},
   "source": [
    "2. В одной порции CrunchieMunchies содержится 60 калорий. Насколько выше среднее количество калорий у ваших конкурентов?\n",
    "\n",
    "Сохраните ответ в переменной average_calories и распечатайте переменную в терминале"
   ]
  },
  {
   "cell_type": "code",
   "execution_count": 88,
   "id": "7036d240",
   "metadata": {},
   "outputs": [
    {
     "name": "stdout",
     "output_type": "stream",
     "text": [
      "average_calories_competitors: 106.88311688311688\n",
      "average_calories diff: 46.883116883116884\n"
     ]
    }
   ],
   "source": [
    "crunchiemunchies_colories = 60\n",
    "average_calories_competitors = np.mean(calorie_stats)\n",
    "print(f'average_calories_competitors: {average_calories_competitors}' )\n",
    "average_calories =  average_calories_competitors - crunchiemunchies_colories\n",
    "print(f'average_calories diff: {average_calories}')"
   ]
  },
  {
   "cell_type": "markdown",
   "id": "b2ddb4cd",
   "metadata": {},
   "source": [
    "3. Корректно ли среднее количество калорий отражает распределение набора данных? Давайте отсортируем данные и посмотрим.\n",
    "\n",
    "Отсортируйте данные и сохраните результат в переменной calorie_stats_sorted. Распечатайте отсортированную информацию"
   ]
  },
  {
   "cell_type": "code",
   "execution_count": 85,
   "id": "46eeb4ed",
   "metadata": {},
   "outputs": [
    {
     "name": "stdout",
     "output_type": "stream",
     "text": [
      "[ 50.  50.  50.  70.  70.  80.  90.  90.  90.  90.  90.  90.  90. 100.\n",
      " 100. 100. 100. 100. 100. 100. 100. 100. 100. 100. 100. 100. 100. 100.\n",
      " 100. 100. 110. 110. 110. 110. 110. 110. 110. 110. 110. 110. 110. 110.\n",
      " 110. 110. 110. 110. 110. 110. 110. 110. 110. 110. 110. 110. 110. 110.\n",
      " 110. 110. 110. 120. 120. 120. 120. 120. 120. 120. 120. 120. 120. 130.\n",
      " 130. 140. 140. 140. 150. 150. 160.]\n"
     ]
    }
   ],
   "source": [
    "calorie_stats_sorted = np.sort(calorie_stats)\n",
    "print(calorie_stats_sorted)"
   ]
  },
  {
   "cell_type": "markdown",
   "id": "4dc74116",
   "metadata": {},
   "source": [
    "4. Похоже, что большинство значений выше среднего. Давайте посмотрим, является ли медиана наиболее корректным показателем набора данных.\n",
    "\n",
    "Вычислите медиану набора данных и сохраните свой ответ в median_calories. Выведите медиану, чтобы вы могли видеть, как она сравнивается со средним значением."
   ]
  },
  {
   "cell_type": "code",
   "execution_count": 86,
   "id": "b56627c3",
   "metadata": {},
   "outputs": [
    {
     "name": "stdout",
     "output_type": "stream",
     "text": [
      "110.0\n"
     ]
    }
   ],
   "source": [
    "median_calories = np.median(calorie_stats)\n",
    "print(median_calories)"
   ]
  },
  {
   "cell_type": "markdown",
   "id": "a63ab72f",
   "metadata": {},
   "source": [
    "5. В то время как медиана показывает, что по крайней мере половина наших значений составляет более 100 калорий, было бы более впечатляюще показать, что значительная часть конкурентов имеет более высокое количество калорий, чем CrunchieMunchies.\n",
    "\n",
    "Рассчитайте различные процентили и распечатайте их, пока не найдете наименьший процентиль, превышающий 60 калорий. Сохраните это значение в переменной nth_percentile."
   ]
  },
  {
   "cell_type": "code",
   "execution_count": 93,
   "id": "fe80ce03",
   "metadata": {},
   "outputs": [
    {
     "name": "stdout",
     "output_type": "stream",
     "text": [
      "min_percentile: 70.0\n"
     ]
    }
   ],
   "source": [
    "percentile = 0\n",
    "min_percentile = None\n",
    "while True:\n",
    "\tcurrent_percentile = np.percentile(calorie_stats, percentile)\n",
    "\tif current_percentile > crunchiemunchies_colories:\n",
    "\t\tmin_percentile = current_percentile\n",
    "\t\tbreak\n",
    "\tpercentile += 1\n",
    "\n",
    "print(f'min_percentile: {min_percentile}')"
   ]
  },
  {
   "cell_type": "markdown",
   "id": "a2a3c5aa",
   "metadata": {},
   "source": [
    "6. Хотя процентиль показывает нам, что у большинства конкурентов количество калорий намного выше, это неудобная концепция для использования в маркетинговых материалах.\n",
    "\n",
    "Вместо этого давайте подсчитаем процент хлопьев, в которых содержится более 60 калорий на порцию. Сохраните свой ответ в переменной more_calories и распечатайте его"
   ]
  },
  {
   "cell_type": "code",
   "execution_count": 94,
   "id": "ade0f6ea",
   "metadata": {},
   "outputs": [
    {
     "name": "stdout",
     "output_type": "stream",
     "text": [
      "more_calories : 96.1038961038961\n"
     ]
    }
   ],
   "source": [
    "count_above_60 = np.sum(calorie_stats > crunchiemunchies_colories)\n",
    "total_count = calorie_stats.size\n",
    "more_calories = count_above_60 / total_count *100\n",
    "print(f'more_calories : {more_calories}')"
   ]
  },
  {
   "cell_type": "markdown",
   "id": "1735d65b",
   "metadata": {},
   "source": [
    "7. Это действительно высокий процент. Это будет очень полезно, когда мы будем продвигать CrunchieMunchies. Но один вопрос заключается в том, насколько велики различия в наборе данных? Можем ли мы сделать обобщение, что в большинстве злаков содержится около 100 калорий или разброс еще больше?\n",
    "\n",
    "Рассчитайте величину отклонения, найдя стандартное отклонение, Сохраните свой ответ в calorie_std и распечатайте на терминале. Как мы можем включить эту ценность в наш анализ?"
   ]
  },
  {
   "cell_type": "code",
   "execution_count": 98,
   "id": "85c8df1f",
   "metadata": {},
   "outputs": [
    {
     "name": "stdout",
     "output_type": "stream",
     "text": [
      "19.35718533390827\n"
     ]
    }
   ],
   "source": [
    "calorie_std = np.std(calorie_stats)\n",
    "print(calorie_std)"
   ]
  },
  {
   "cell_type": "markdown",
   "id": "037455c5",
   "metadata": {},
   "source": [
    "Напишите короткий абзац, в котором кратко изложите свои выводы и то, как, по вашему мнению, эти данные могут быть использованы в интересах Mycrunch при маркетинге CrunchieMunchies.8. "
   ]
  },
  {
   "cell_type": "code",
   "execution_count": 167,
   "id": "c260fee9",
   "metadata": {},
   "outputs": [],
   "source": [
    "После проведенного анализа данных о калориях конкурентов можно сделать выводч что:\n",
    "- среднее значение калорийности по кокурентам: 106.9 - наше: 60. Разница 46.9\n",
    "- колорийность наших хлопьев в 96% ниже чем у конкурентов\n",
    "- среднее значение калорий по конкурентам превышает 100  \n",
    "- медиана (110.0) указывает на то, что как минимум у половины конкуретнтов колорийность хлопьев более 110\n",
    "- min_percentile: 70.0 показывает, что значительная часть конкурентов имеет больше калорий, чем CrunchieMunchies (60)\n",
    "- рассматривая длинный хвост продуктов, большинство конкурентов предлагает хлопья с калорийностью от 100 до 160 калорий, что видно из стандартного отклонения."
   ]
  }
 ],
 "metadata": {
  "kernelspec": {
   "display_name": "Python 3 (ipykernel)",
   "language": "python",
   "name": "python3"
  },
  "language_info": {
   "codemirror_mode": {
    "name": "ipython",
    "version": 3
   },
   "file_extension": ".py",
   "mimetype": "text/x-python",
   "name": "python",
   "nbconvert_exporter": "python",
   "pygments_lexer": "ipython3",
   "version": "3.8.10"
  }
 },
 "nbformat": 4,
 "nbformat_minor": 5
}
