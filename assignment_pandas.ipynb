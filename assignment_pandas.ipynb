{
 "cells": [
  {
   "cell_type": "markdown",
   "metadata": {},
   "source": [
    "## Датасет собран из базы данных переписи 1994 года и содержит данные о доходах.\n",
    "### Информация о данных:\n",
    "* age: continuous.\n",
    "* workclass: Private, Self-emp-not-inc, Self-emp-inc, Federal-gov, Local-gov, State-gov, Without-pay, Never-worked.\n",
    "* fnlwgt: continuous.\n",
    "* education: Bachelors, Some-college, 11th, HS-grad, Prof-school, Assoc-acdm, Assoc-voc, 9th, 7th-8th, 12th, * Masters, 1st-4th, 10th, Doctorate, 5th-6th, Preschool.\n",
    "* education-num: continuous.\n",
    "* marital-status: Married-civ-spouse, Divorced, Never-married, Separated, Widowed, Married-spouse-absent, Married-AF-spouse.\n",
    "* occupation: Tech-support, Craft-repair, Other-service, Sales, Exec-managerial, Prof-specialty, Handlers-cleaners, Machine-op-inspct, Adm-clerical, Farming-fishing, Transport-moving, Priv-house-serv, Protective-serv, Armed-Forces.\n",
    "* relationship: Wife, Own-child, Husband, Not-in-family, Other-relative, Unmarried.\n",
    "* race: White, Asian-Pac-Islander, Amer-Indian-Eskimo, Other, Black.\n",
    "* sex: Female, Male.\n",
    "* capital-gain: continuous.\n",
    "* capital-loss: continuous.\n",
    "* hours-per-week: continuous.\n",
    "* native-country: United-States, Cambodia, England, Puerto-Rico, Canada, Germany, Outlying-US(Guam-USVI-etc), India, Japan, Greece, South, China, Cuba, Iran, Honduras, Philippines, Italy, Poland, Jamaica, Vietnam, Mexico, Portugal, Ireland, France, Dominican-Republic, Laos, Ecuador, Taiwan, Haiti, Columbia, Hungary, Guatemala, Nicaragua, Scotland, Thailand, Yugoslavia, El-Salvador, Trinadad&Tobago, Peru, Hong, Holand-Netherlands.\n",
    "* salary: >50K,<=50K\n",
    "\n",
    "## Проведите анализ данных при помощи Pandas выполнив поставленные задачи.\n",
    "#### "
   ]
  },
  {
   "cell_type": "code",
   "execution_count": 5,
   "metadata": {},
   "outputs": [],
   "source": [
    "import pandas as pd"
   ]
  },
  {
   "cell_type": "code",
   "execution_count": 15,
   "metadata": {},
   "outputs": [
    {
     "data": {
      "text/html": [
       "<div>\n",
       "<style scoped>\n",
       "    .dataframe tbody tr th:only-of-type {\n",
       "        vertical-align: middle;\n",
       "    }\n",
       "\n",
       "    .dataframe tbody tr th {\n",
       "        vertical-align: top;\n",
       "    }\n",
       "\n",
       "    .dataframe thead th {\n",
       "        text-align: right;\n",
       "    }\n",
       "</style>\n",
       "<table border=\"1\" class=\"dataframe\">\n",
       "  <thead>\n",
       "    <tr style=\"text-align: right;\">\n",
       "      <th></th>\n",
       "      <th>age</th>\n",
       "      <th>workclass</th>\n",
       "      <th>fnlwgt</th>\n",
       "      <th>education</th>\n",
       "      <th>education-num</th>\n",
       "      <th>marital-status</th>\n",
       "      <th>occupation</th>\n",
       "      <th>relationship</th>\n",
       "      <th>race</th>\n",
       "      <th>sex</th>\n",
       "      <th>capital-gain</th>\n",
       "      <th>capital-loss</th>\n",
       "      <th>hours-per-week</th>\n",
       "      <th>native-country</th>\n",
       "      <th>salary</th>\n",
       "    </tr>\n",
       "  </thead>\n",
       "  <tbody>\n",
       "    <tr>\n",
       "      <th>0</th>\n",
       "      <td>39</td>\n",
       "      <td>State-gov</td>\n",
       "      <td>77516</td>\n",
       "      <td>Bachelors</td>\n",
       "      <td>13</td>\n",
       "      <td>Never-married</td>\n",
       "      <td>Adm-clerical</td>\n",
       "      <td>Not-in-family</td>\n",
       "      <td>White</td>\n",
       "      <td>Male</td>\n",
       "      <td>2174</td>\n",
       "      <td>0</td>\n",
       "      <td>40</td>\n",
       "      <td>United-States</td>\n",
       "      <td>&lt;=50K</td>\n",
       "    </tr>\n",
       "    <tr>\n",
       "      <th>1</th>\n",
       "      <td>50</td>\n",
       "      <td>Self-emp-not-inc</td>\n",
       "      <td>83311</td>\n",
       "      <td>Bachelors</td>\n",
       "      <td>13</td>\n",
       "      <td>Married-civ-spouse</td>\n",
       "      <td>Exec-managerial</td>\n",
       "      <td>Husband</td>\n",
       "      <td>White</td>\n",
       "      <td>Male</td>\n",
       "      <td>0</td>\n",
       "      <td>0</td>\n",
       "      <td>13</td>\n",
       "      <td>United-States</td>\n",
       "      <td>&lt;=50K</td>\n",
       "    </tr>\n",
       "    <tr>\n",
       "      <th>2</th>\n",
       "      <td>38</td>\n",
       "      <td>Private</td>\n",
       "      <td>215646</td>\n",
       "      <td>HS-grad</td>\n",
       "      <td>9</td>\n",
       "      <td>Divorced</td>\n",
       "      <td>Handlers-cleaners</td>\n",
       "      <td>Not-in-family</td>\n",
       "      <td>White</td>\n",
       "      <td>Male</td>\n",
       "      <td>0</td>\n",
       "      <td>0</td>\n",
       "      <td>40</td>\n",
       "      <td>United-States</td>\n",
       "      <td>&lt;=50K</td>\n",
       "    </tr>\n",
       "    <tr>\n",
       "      <th>3</th>\n",
       "      <td>53</td>\n",
       "      <td>Private</td>\n",
       "      <td>234721</td>\n",
       "      <td>11th</td>\n",
       "      <td>7</td>\n",
       "      <td>Married-civ-spouse</td>\n",
       "      <td>Handlers-cleaners</td>\n",
       "      <td>Husband</td>\n",
       "      <td>Black</td>\n",
       "      <td>Male</td>\n",
       "      <td>0</td>\n",
       "      <td>0</td>\n",
       "      <td>40</td>\n",
       "      <td>United-States</td>\n",
       "      <td>&lt;=50K</td>\n",
       "    </tr>\n",
       "    <tr>\n",
       "      <th>4</th>\n",
       "      <td>28</td>\n",
       "      <td>Private</td>\n",
       "      <td>338409</td>\n",
       "      <td>Bachelors</td>\n",
       "      <td>13</td>\n",
       "      <td>Married-civ-spouse</td>\n",
       "      <td>Prof-specialty</td>\n",
       "      <td>Wife</td>\n",
       "      <td>Black</td>\n",
       "      <td>Female</td>\n",
       "      <td>0</td>\n",
       "      <td>0</td>\n",
       "      <td>40</td>\n",
       "      <td>Cuba</td>\n",
       "      <td>&lt;=50K</td>\n",
       "    </tr>\n",
       "  </tbody>\n",
       "</table>\n",
       "</div>"
      ],
      "text/plain": [
       "   age         workclass  fnlwgt  education  education-num  \\\n",
       "0   39         State-gov   77516  Bachelors             13   \n",
       "1   50  Self-emp-not-inc   83311  Bachelors             13   \n",
       "2   38           Private  215646    HS-grad              9   \n",
       "3   53           Private  234721       11th              7   \n",
       "4   28           Private  338409  Bachelors             13   \n",
       "\n",
       "       marital-status         occupation   relationship   race     sex  \\\n",
       "0       Never-married       Adm-clerical  Not-in-family  White    Male   \n",
       "1  Married-civ-spouse    Exec-managerial        Husband  White    Male   \n",
       "2            Divorced  Handlers-cleaners  Not-in-family  White    Male   \n",
       "3  Married-civ-spouse  Handlers-cleaners        Husband  Black    Male   \n",
       "4  Married-civ-spouse     Prof-specialty           Wife  Black  Female   \n",
       "\n",
       "   capital-gain  capital-loss  hours-per-week native-country salary  \n",
       "0          2174             0              40  United-States  <=50K  \n",
       "1             0             0              13  United-States  <=50K  \n",
       "2             0             0              40  United-States  <=50K  \n",
       "3             0             0              40  United-States  <=50K  \n",
       "4             0             0              40           Cuba  <=50K  "
      ]
     },
     "execution_count": 15,
     "metadata": {},
     "output_type": "execute_result"
    }
   ],
   "source": [
    "# загружаем датасет\n",
    "data = pd.read_csv(\"./data/adult.data.csv\")\n",
    "data.head()"
   ]
  },
  {
   "cell_type": "markdown",
   "metadata": {},
   "source": [
    "**1. Посчитайте, сколько мужчин и женщин (признак *sex*) представлено в этом датасете**"
   ]
  },
  {
   "cell_type": "code",
   "execution_count": 99,
   "metadata": {},
   "outputs": [
    {
     "name": "stdout",
     "output_type": "stream",
     "text": [
      "male count: 21790\n",
      "female count: 10771\n"
     ]
    }
   ],
   "source": [
    "male_count = (data['sex'] == 'Male').sum()\n",
    "female_count = (data['sex'] == 'Female').sum()\n",
    "print(f'male count: {male_count}')\n",
    "print(f'female count: {female_count}')"
   ]
  },
  {
   "cell_type": "markdown",
   "metadata": {},
   "source": [
    "**2. Каков средний возраст мужчин (признак *age*) по всему датасету?**"
   ]
  },
  {
   "cell_type": "code",
   "execution_count": 86,
   "metadata": {},
   "outputs": [
    {
     "name": "stdout",
     "output_type": "stream",
     "text": [
      "avg age male: 39.43354749885268\n"
     ]
    }
   ],
   "source": [
    "avg_age_male = data[data['sex'] == 'Male']['age'].mean()\n",
    "print(f'avg age male: {avg_age_male}')"
   ]
  },
  {
   "cell_type": "markdown",
   "metadata": {},
   "source": [
    "**3. Какова доля граждан Соединенных Штатов (признак *native-country*)?**"
   ]
  },
  {
   "cell_type": "code",
   "execution_count": 85,
   "metadata": {},
   "outputs": [
    {
     "name": "stdout",
     "output_type": "stream",
     "text": [
      "us citezens percent : 89.59 %\n"
     ]
    }
   ],
   "source": [
    "total_recs = data.shape[0]\n",
    "us_citezens = (data['native-country'] == 'United-States').sum()\n",
    "us_citezens_percent = us_citezens / total_recs * 100\n",
    "print(f'us citezens percent : {us_citezens_percent:.2f} %')\n"
   ]
  },
  {
   "cell_type": "markdown",
   "metadata": {},
   "source": [
    "**4-5. Рассчитайте среднее значение и среднеквадратичное отклонение возраста тех, кто получает более 50K в год (признак *salary*) и тех, кто получает менее 50K в год**"
   ]
  },
  {
   "cell_type": "code",
   "execution_count": 83,
   "metadata": {},
   "outputs": [
    {
     "name": "stdout",
     "output_type": "stream",
     "text": [
      "avg age less 50K: 36.78373786407767\n",
      "avg age less 50K : 14.02008849082488\n",
      "avg age above 50K: 44.24984058155847\n",
      "std age above 50K : 10.519027719851826\n"
     ]
    }
   ],
   "source": [
    "avg_age_less50 = data[data['salary'] == '<=50K']['age'].mean()\n",
    "std_age_less50 = data[data['salary'] == '<=50K']['age'].std()\n",
    "avg_age_above50 = data[data['salary'] == '>50K']['age'].mean()\n",
    "std_age_above50 = data[data['salary'] == '>50K']['age'].std() \n",
    "print(f'avg age less 50K: {avg_age_less50}')\n",
    "print(f'avg age less 50K : {std_age_less50}')\n",
    "print(f'avg age above 50K: {avg_age_above50}')\n",
    "print(f'std age above 50K : {std_age_above50}')"
   ]
  },
  {
   "cell_type": "markdown",
   "metadata": {},
   "source": [
    "**6. Правда ли, что люди, которые получают больше 50k, имеют минимум высшее образование? (признак *education – Bachelors, Prof-school, Assoc-acdm, Assoc-voc, Masters* или *Doctorate*)**"
   ]
  },
  {
   "cell_type": "code",
   "execution_count": 45,
   "metadata": {},
   "outputs": [
    {
     "name": "stdout",
     "output_type": "stream",
     "text": [
      "False НЕ Все люди, получающие больше 50K, имеют минимум высшее образование.\n"
     ]
    }
   ],
   "source": [
    "higher_education = [  \n",
    "    \"Bachelors\",   \n",
    "    \"Prof-school\",   \n",
    "    \"Assoc-acdm\",   \n",
    "    \"Assoc-voc\",   \n",
    "    \"Masters\",   \n",
    "    \"Doctorate\"  \n",
    "]\n",
    "high_earners = data[data['salary'] == '>50K']  \n",
    "is_high_earners_have_higher_education = all(high_earners['education'].isin(higher_education))\n",
    "if is_high_earners_have_higher_education:\n",
    "    print(f'{is_high_earners_have_higher_education} Все люди, получающие больше 50K, имеют минимум высшее образование.')\n",
    "else:\n",
    "    print(f'{is_high_earners_have_higher_education} НЕ Все люди, получающие больше 50K, имеют минимум высшее образование.')\n"
   ]
  },
  {
   "cell_type": "markdown",
   "metadata": {},
   "source": [
    "**7. Выведите статистику возраста для каждой расы (признак *race*) и каждого пола. Используйте *groupby* и *describe*. Найдите таким образом максимальный возраст мужчин расы *Asian-Pac-Islander*.**"
   ]
  },
  {
   "cell_type": "code",
   "execution_count": 47,
   "metadata": {
    "scrolled": true
   },
   "outputs": [
    {
     "name": "stdout",
     "output_type": "stream",
     "text": [
      "                             count       mean        std   min   25%   50%  \\\n",
      "race               sex                                                       \n",
      "Amer-Indian-Eskimo Female    119.0  37.117647  13.114991  17.0  27.0  36.0   \n",
      "                   Male      192.0  37.208333  12.049563  17.0  28.0  35.0   \n",
      "Asian-Pac-Islander Female    346.0  35.089595  12.300845  17.0  25.0  33.0   \n",
      "                   Male      693.0  39.073593  12.883944  18.0  29.0  37.0   \n",
      "Black              Female   1555.0  37.854019  12.637197  17.0  28.0  37.0   \n",
      "                   Male     1569.0  37.682600  12.882612  17.0  27.0  36.0   \n",
      "Other              Female    109.0  31.678899  11.631599  17.0  23.0  29.0   \n",
      "                   Male      162.0  34.654321  11.355531  17.0  26.0  32.0   \n",
      "White              Female   8642.0  36.811618  14.329093  17.0  25.0  35.0   \n",
      "                   Male    19174.0  39.652498  13.436029  17.0  29.0  38.0   \n",
      "\n",
      "                             75%   max  \n",
      "race               sex                  \n",
      "Amer-Indian-Eskimo Female  46.00  80.0  \n",
      "                   Male    45.00  82.0  \n",
      "Asian-Pac-Islander Female  43.75  75.0  \n",
      "                   Male    46.00  90.0  \n",
      "Black              Female  46.00  90.0  \n",
      "                   Male    46.00  90.0  \n",
      "Other              Female  39.00  74.0  \n",
      "                   Male    42.00  77.0  \n",
      "White              Female  46.00  90.0  \n",
      "                   Male    49.00  90.0  \n",
      "max_male_age_asian_pac_islander: 90\n"
     ]
    }
   ],
   "source": [
    "age_stats = data.groupby(['race', 'sex'])['age'].describe()\n",
    "print(age_stats)\n",
    "max_male_age_asian_pac_islander = data[(data['sex'] == 'Male') & (data['race'] == 'Asian-Pac-Islander')]['age'].max()\n",
    "print(f'max_male_age_asian_pac_islander: {max_male_age_asian_pac_islander}')"
   ]
  },
  {
   "cell_type": "markdown",
   "metadata": {},
   "source": [
    "**8. Среди кого больше доля зарабатывающих много (>50K): среди женатых или холостых мужчин (признак *marital-status*)? Женатыми считаем тех, у кого *marital-status* начинается с *Married* (Married-civ-spouse, Married-spouse-absent или Married-AF-spouse), остальных считаем холостыми.**"
   ]
  },
  {
   "cell_type": "code",
   "execution_count": 91,
   "metadata": {},
   "outputs": [
    {
     "name": "stdout",
     "output_type": "stream",
     "text": [
      "Married percent: 89.54 %\n",
      "Unmarried percent : 10.46 %\n"
     ]
    }
   ],
   "source": [
    "married_statuses = ['Married-civ-spouse', 'Married-spouse-absent', 'Married-AF-spouse']\n",
    "married_higher_earners = data[(data['salary'] == '>50K') & (data['marital-status'].isin(married_statuses) & (data['sex'] == 'Male'))].shape[0]\n",
    "unmarried_higher_earners = data[(data['salary'] == '>50K') & (~data['marital-status'].isin(married_statuses) & (data['sex'] == 'Male'))].shape[0]\n",
    "total_higher_earners = married_higher_earners + unmarried_higher_earners\n",
    "married_percent = married_higher_earners / total_higher_earners * 100\n",
    "unmarried_percent = unmarried_higher_earners / total_higher_earners * 100\n",
    "print(f'Married percent: {married_percent:.2f} %')\n",
    "print(f'Unmarried percent : {unmarried_percent:.2f} %')\n"
   ]
  },
  {
   "cell_type": "markdown",
   "metadata": {},
   "source": [
    "**9. Какое максимальное число часов человек работает в неделю (признак *hours-per-week*)? Сколько людей работают такое количество часов и каков среди них процент зарабатывающих много?**"
   ]
  },
  {
   "cell_type": "code",
   "execution_count": 90,
   "metadata": {},
   "outputs": [
    {
     "name": "stdout",
     "output_type": "stream",
     "text": [
      "Max hours per week : 99 hours\n",
      "Number of people who work max hours : 85\n",
      "Percent of people who work max hours and earn a lot: 29.41 %\n"
     ]
    }
   ],
   "source": [
    "max_hour_per_week = data['hours-per-week'].max()\n",
    "print(f'Max hours per week : {max_hour_per_week} hours')\n",
    "max_hour_earners = data[data['hours-per-week'] == max_hour_per_week].shape[0]\n",
    "print(f'Number of people who work max hours : {max_hour_earners}')\n",
    "max_hours_higher_earners = data[(data['hours-per-week'] == max_hour_per_week) & (data['salary'] == '>50K')].shape[0]\n",
    "max_hours_higher_earners_percent = max_hours_higher_earners / max_hour_earners * 100\n",
    "print(f'Percent of people who work max hours and earn a lot: {max_hours_higher_earners_percent:.2f} %')"
   ]
  },
  {
   "cell_type": "markdown",
   "metadata": {},
   "source": [
    "**10. Посчитайте среднее время работы (*hours-per-week*) зарабатывающих мало и много (*salary*) для каждой страны (*native-country*).**"
   ]
  },
  {
   "cell_type": "code",
   "execution_count": 97,
   "metadata": {
    "scrolled": true
   },
   "outputs": [
    {
     "name": "stdout",
     "output_type": "stream",
     "text": [
      "   native-country salary  average_hours_per_week\n",
      "0               ?  <=50K               40.164760\n",
      "1               ?   >50K               45.547945\n",
      "2        Cambodia  <=50K               41.416667\n",
      "3        Cambodia   >50K               40.000000\n",
      "4          Canada  <=50K               37.914634\n",
      "..            ...    ...                     ...\n",
      "77  United-States   >50K               45.505369\n",
      "78        Vietnam  <=50K               37.193548\n",
      "79        Vietnam   >50K               39.200000\n",
      "80     Yugoslavia  <=50K               41.600000\n",
      "81     Yugoslavia   >50K               49.500000\n",
      "\n",
      "[82 rows x 3 columns]\n"
     ]
    }
   ],
   "source": [
    "avg_hours_per_country = data.groupby(['native-country', 'salary'])['hours-per-week'].mean().reset_index()\n",
    "avg_hours_per_country.columns = ['native-country', 'salary', 'average_hours_per_week']\n",
    "print(avg_hours_per_country)\n"
   ]
  },
  {
   "cell_type": "markdown",
   "metadata": {},
   "source": [
    "**11.Сгруппируйте людей по возрастным группам *young*, *adult*, *retiree*, где:**\n",
    "* *young* соответствует 16-35 лет\n",
    "* *adult* - 35-70 лет\n",
    "* *retiree* - 70-100 лет\n",
    "\n",
    "**Проставьте название соответсвтуещей группы для каждого человека в новой колонке AgeGroup**"
   ]
  },
  {
   "cell_type": "code",
   "execution_count": 102,
   "metadata": {
    "scrolled": true
   },
   "outputs": [
    {
     "name": "stdout",
     "output_type": "stream",
     "text": [
      "       age AgeGroup\n",
      "0       39    adult\n",
      "1       50    adult\n",
      "2       38    adult\n",
      "3       53    adult\n",
      "4       28    young\n",
      "...    ...      ...\n",
      "32556   27    young\n",
      "32557   40    adult\n",
      "32558   58    adult\n",
      "32559   22    young\n",
      "32560   52    adult\n",
      "\n",
      "[32561 rows x 2 columns]\n"
     ]
    }
   ],
   "source": [
    "def get_age_category(age):\n",
    "\tif 16 <= age <= 35:\n",
    "\t\treturn 'young'\n",
    "\telif 35 < age <= 70:\n",
    "\t\treturn 'adult'\n",
    "\telif 70 < age <= 100:\n",
    "\t\treturn 'retiree'\n",
    "\telse:\n",
    "\t\treturn None\n",
    "\n",
    "data['AgeGroup'] = data['age'].apply(get_age_category)\n",
    "print(data[['age','AgeGroup']])\n"
   ]
  },
  {
   "cell_type": "markdown",
   "metadata": {},
   "source": [
    "**12-13. Определите количество зарабатывающих >50K в каждой из возрастных групп (колонка AgeGroup), а также выведите название возрастной группы, в которой чаще зарабатывают больше 50К (>50K)**"
   ]
  },
  {
   "cell_type": "code",
   "execution_count": 113,
   "metadata": {},
   "outputs": [
    {
     "name": "stdout",
     "output_type": "stream",
     "text": [
      "higher earners by agegroup:\n",
      "    AgeGroup  Count\n",
      "0    adult   6042\n",
      "1  retiree     94\n",
      "2    young   1705\n",
      "Higher earners group:  adult\n"
     ]
    }
   ],
   "source": [
    "higher_earners_by_agegroup = data[data['salary'] == '>50K'].groupby('AgeGroup').size().reset_index(name='Count')\n",
    "print(f'higher earners by agegroup:\\n  {higher_earners_by_agegroup}') \n",
    "higher_earners_group = higher_earners_by_agegroup.loc[higher_earners_by_agegroup['Count'].idxmax()]['AgeGroup']\n",
    "print(f'Higher earners group:  {higher_earners_group}')"
   ]
  },
  {
   "cell_type": "markdown",
   "metadata": {},
   "source": [
    "**14. Сгруппируйте людей по типу занятости (колонка occupation) и определите количество людей в каждой группе. После чего напишите функциюю фильтрации filter_func, которая будет возвращать только те группы, в которых средний возраст (колонка age) не больше 40 и в которых все работники отрабатывают более 5 часов в неделю (колонка hours-per-week)**"
   ]
  },
  {
   "cell_type": "code",
   "execution_count": 123,
   "metadata": {},
   "outputs": [
    {
     "name": "stdout",
     "output_type": "stream",
     "text": [
      "Occupation_groups :\n",
      "           occupation  Count\n",
      "0                   ?   1843\n",
      "1        Adm-clerical   3770\n",
      "2        Armed-Forces      9\n",
      "3        Craft-repair   4099\n",
      "4     Exec-managerial   4066\n",
      "5     Farming-fishing    994\n",
      "6   Handlers-cleaners   1370\n",
      "7   Machine-op-inspct   2002\n",
      "8       Other-service   3295\n",
      "9     Priv-house-serv    149\n",
      "10     Prof-specialty   4140\n",
      "11    Protective-serv    649\n",
      "12              Sales   3650\n",
      "13       Tech-support    928\n",
      "14   Transport-moving   1597\n",
      "filterred_occupation_groups : \n",
      "      occupation  Count\n",
      "0  Armed-Forces      9\n"
     ]
    }
   ],
   "source": [
    "occupation_groups = data.groupby('occupation').size().reset_index(name='Count')\n",
    "print(f'Occupation_groups :\\n{occupation_groups}')\n",
    "\n",
    "def filter_func(groups):\n",
    "\tavg_age = groups['age'].mean()\n",
    "\tall_workers_above_5hours = (groups['hours-per-week'] > 5).all()\n",
    "\treturn avg_age <= 40 and all_workers_above_5hours\n",
    "\n",
    "filterred_occupation_groups = data.groupby('occupation').filter(filter_func)\n",
    "filtered_occupation_counts = filterred_occupation_groups.groupby('occupation').size().reset_index(name='Count')\n",
    "print(f'Filterred occupation groups : \\n {filtered_occupation_counts}')\n"
   ]
  }
 ],
 "metadata": {
  "anaconda-cloud": {},
  "kernelspec": {
   "display_name": "Python 3.13.1 64-bit",
   "language": "python",
   "name": "python3"
  },
  "language_info": {
   "codemirror_mode": {
    "name": "ipython",
    "version": 3
   },
   "file_extension": ".py",
   "mimetype": "text/x-python",
   "name": "python",
   "nbconvert_exporter": "python",
   "pygments_lexer": "ipython3",
   "version": "3.13.1"
  },
  "vscode": {
   "interpreter": {
    "hash": "cfcb51ba6a5898a96229f8cdebac4678b232c747c5fc819b474621f23ba7f45c"
   }
  }
 },
 "nbformat": 4,
 "nbformat_minor": 1
}
